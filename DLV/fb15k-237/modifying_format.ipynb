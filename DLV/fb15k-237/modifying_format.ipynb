{
 "cells": [
  {
   "cell_type": "code",
   "execution_count": null,
   "metadata": {},
   "outputs": [],
   "source": [
    "# Load entity dictionary\n",
    "entity_dict = {}\n",
    "with open(\"entities.dict\", 'r', encoding='utf-8') as f:\n",
    "    for line in f:\n",
    "        parts = line.strip().split('\\t')\n",
    "        if len(parts) == 2:\n",
    "            entity_dict[parts[1]] = parts[0]\n",
    "\n",
    "# Load relation dictionary\n",
    "relation_dict = {}\n",
    "with open(\"relations.dict\", 'r', encoding='utf-8') as f:\n",
    "    for line in f:\n",
    "        parts = line.strip().split('\\t')\n",
    "        if len(parts) == 2:\n",
    "            relation_dict[parts[1]] = f\"rel_{parts[0]}\"\n"
   ]
  },
  {
   "cell_type": "code",
   "execution_count": 8,
   "metadata": {},
   "outputs": [
    {
     "name": "stdout",
     "output_type": "stream",
     "text": [
      "Conversion complete. Output saved to output.txt\n"
     ]
    }
   ],
   "source": [
    "# Convert train file\n",
    "input_file = \"train_Uniker_format.txt\"\n",
    "output_file = \"output.txt\"\n",
    "\n",
    "with open(input_file, 'r', encoding='utf-8') as infile, open(output_file, 'w', encoding='utf-8') as outfile:\n",
    "    for line in infile:\n",
    "        parts = line.strip().split('\\t')\n",
    "        converted_parts = []\n",
    "        for part in parts:\n",
    "            if part in entity_dict:\n",
    "                converted_parts.append(entity_dict[part])\n",
    "            elif part in relation_dict:\n",
    "                converted_parts.append(relation_dict[part])\n",
    "            else:\n",
    "                converted_parts.append(part)  # Keep unchanged if not found\n",
    "                print(f\"{part}not found\")\n",
    "        outfile.write('\\t'.join(converted_parts) + '\\n')\n",
    "\n",
    "print(f\"Conversion complete. Output saved to {output_file}\")"
   ]
  },
  {
   "cell_type": "code",
   "execution_count": 17,
   "metadata": {},
   "outputs": [
    {
     "name": "stdout",
     "output_type": "stream",
     "text": [
      "Rule conversion complete. Output saved to rule_output.txt\n"
     ]
    }
   ],
   "source": [
    "# Convert rule file\n",
    "input_file = \"MLN_rule.txt\"\n",
    "output_file = \"rule_output.txt\"\n",
    "\n",
    "with open(input_file, 'r', encoding='utf-8') as infile, open(output_file, 'w', encoding='utf-8') as outfile:\n",
    "    for line in infile:\n",
    "        parts = line.strip().split('\\t')\n",
    "        parts = parts[1:]  # Remove the first element (e.g., \"1.0\")$\n",
    "\n",
    "        if len(parts) == 2:\n",
    "            if parts[0][-2:] == \"_v\":\n",
    "                if parts[0][:-2] in relation_dict:\n",
    "                    elem_1 = relation_dict[parts[0][:-2]] + \"(Y,X)\"\n",
    "                    print(\"chelou ça\")\n",
    "                else:\n",
    "                    print(f\"{parts[0][:-2]} not in relation_dict\")\n",
    "            else:\n",
    "                if parts[0] in relation_dict:\n",
    "                    elem_1 = relation_dict[parts[0]] + \"(X,Y)\"\n",
    "                else:\n",
    "                    print(f\"{parts[0]} not in relation_dict\")\n",
    "            if parts[1][-2:] == \"_v\":\n",
    "                if parts[1][:-2] in relation_dict:\n",
    "                    elem_2 = relation_dict[parts[1][:-2]] + \"(Y,X)\"\n",
    "                else:\n",
    "                    print(f\"{parts[1][:-2]} not in relation_dict\")\n",
    "            else:\n",
    "                if parts[1] in relation_dict:\n",
    "                    elem_2 = relation_dict[parts[1]] + \"(X,Y)\"\n",
    "                else:\n",
    "                    print(f\"{parts[1]} not in relation_dict\")\n",
    "        \n",
    "            res = f\"{elem_1} :- {elem_2}.\"\n",
    "\n",
    "        elif len(parts) == 3:\n",
    "            if parts[0][-2:] == \"_v\":\n",
    "                if parts[0][:-2] in relation_dict:\n",
    "                    elem_1 = relation_dict[parts[0][:-2]] + \"(Z,X)\"\n",
    "                    print(\"chelou ça\")\n",
    "                else:\n",
    "                    print(f\"A: {parts[0][:-2]} not in relation_dict\")\n",
    "            else:\n",
    "                if parts[0] in relation_dict:\n",
    "                    elem_1 = relation_dict[parts[0]] + \"(X,Z)\"\n",
    "                else:\n",
    "                    print(f\"B: {parts[0]} not in relation_dict\")\n",
    "            if parts[1][-2:] == \"_v\":\n",
    "                if parts[1][:-2] in relation_dict:\n",
    "                    elem_2 = relation_dict[parts[1][:-2]] + \"(Y,X)\"\n",
    "                else:\n",
    "                    print(f\"A: {parts[1][:-2]} not in relation_dict\")\n",
    "            else:\n",
    "                if parts[1] in relation_dict:\n",
    "                    elem_2 = relation_dict[parts[1]] + \"(X,Y)\"\n",
    "                else:\n",
    "                    print(f\"B: {parts[1]} not in relation_dict\")\n",
    "            if parts[2][-2:] == \"_v\":\n",
    "                if parts[2][:-2] in relation_dict:\n",
    "                    elem_3 = relation_dict[parts[2][:-2]] + \"(Z,Y)\"\n",
    "                else:\n",
    "                    print(f\"A: {parts[2][:-2]} not in relation_dict\")\n",
    "            else:\n",
    "                if parts[2] in relation_dict:\n",
    "                    elem_3 = relation_dict[parts[2]] + \"(Y,Z)\"\n",
    "                else:\n",
    "                    print(f\"B: {parts[2]} not in relation_dict\")\n",
    "            \n",
    "            res = f\"{elem_1} :- {elem_2}, {elem_3}.\"\n",
    "\n",
    "        else:\n",
    "            print(\"ERRRROOOOOOORRRRRRRR\")\n",
    "            print(parts)\n",
    "\n",
    "        outfile.write(res + '\\n')\n",
    "\n",
    "print(f\"Rule conversion complete. Output saved to {output_file}\")\n"
   ]
  }
 ],
 "metadata": {
  "kernelspec": {
   "display_name": "base",
   "language": "python",
   "name": "python3"
  },
  "language_info": {
   "codemirror_mode": {
    "name": "ipython",
    "version": 3
   },
   "file_extension": ".py",
   "mimetype": "text/x-python",
   "name": "python",
   "nbconvert_exporter": "python",
   "pygments_lexer": "ipython3",
   "version": "3.11.5"
  }
 },
 "nbformat": 4,
 "nbformat_minor": 2
}
