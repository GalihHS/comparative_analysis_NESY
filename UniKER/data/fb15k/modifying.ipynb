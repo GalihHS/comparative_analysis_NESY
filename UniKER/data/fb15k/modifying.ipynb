{
 "cells": [
  {
   "cell_type": "code",
   "execution_count": 9,
   "metadata": {},
   "outputs": [],
   "source": [
    "input_file = \"MLN_rule.txt\"\n",
    "output_file = \"test_here.txt\""
   ]
  },
  {
   "cell_type": "code",
   "execution_count": 11,
   "metadata": {},
   "outputs": [],
   "source": [
    "with open(input_file, 'r') as input:\n",
    "    with open(output_file, 'w') as output:\n",
    "        for line in input:\n",
    "            elems = line.strip().split(\"\\t\")\n",
    "            second_elem = elems[1]\n",
    "            if second_elem[-2:] == '_v':\n",
    "                third_elem = elems[2]\n",
    "                if len(elems) == 3:\n",
    "                    if third_elem[-2:] == '_v':\n",
    "                        third_elem = third_elem[:-2]\n",
    "                    else:\n",
    "                        third_elem = third_elem+'_v'\n",
    "                    final = elems[0] + \"\\t\" + second_elem[:-2] + \"\\t\" + third_elem\n",
    "\n",
    "                elif len(elems) == 4:\n",
    "                    forth_elem = elems[3]\n",
    "                    if third_elem[-2:] == '_v':\n",
    "                        third_elem = third_elem[:-2]\n",
    "                    else:\n",
    "                        third_elem = third_elem+'_v'\n",
    "                    if forth_elem[-2:] == '_v':\n",
    "                        forth_elem = forth_elem[:-2]\n",
    "                    else:\n",
    "                        forth_elem = forth_elem+'_v'\n",
    "                    final = elems[0] + \"\\t\" + second_elem[:-2] + \"\\t\" + forth_elem + \"\\t\" + third_elem\n",
    "      \n",
    "                output.write(final + \"\\n\")\n",
    "            else:\n",
    "                output.write(line)\n"
   ]
  }
 ],
 "metadata": {
  "kernelspec": {
   "display_name": "3.8.19",
   "language": "python",
   "name": "python3"
  },
  "language_info": {
   "codemirror_mode": {
    "name": "ipython",
    "version": 3
   },
   "file_extension": ".py",
   "mimetype": "text/x-python",
   "name": "python",
   "nbconvert_exporter": "python",
   "pygments_lexer": "ipython3",
   "version": "3.8.19"
  }
 },
 "nbformat": 4,
 "nbformat_minor": 2
}
