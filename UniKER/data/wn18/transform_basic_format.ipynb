{
 "cells": [
  {
   "cell_type": "code",
   "execution_count": 1,
   "metadata": {},
   "outputs": [
    {
     "name": "stdout",
     "output_type": "stream",
     "text": [
      "Processing complete. Check the 'results' directory for output files.\n"
     ]
    }
   ],
   "source": [
    "import os\n",
    "\n",
    "def read_dict_file(file_path):\n",
    "    \"\"\"Reads a .dict file and returns a dictionary mapping items to their index.\"\"\"\n",
    "    dictionary = {}\n",
    "    with open(file_path, 'r') as f:\n",
    "        for line in f:\n",
    "            index, item = line.strip().split('\\t')\n",
    "            dictionary[item] = int(index)\n",
    "    return dictionary\n",
    "\n",
    "def process_file(input_file, entity_dict, relation_dict, output_file):\n",
    "    \"\"\"Processes the input file, mapping entities and relations to their indexes, and writes the result to output.\"\"\"\n",
    "    with open(input_file, 'r') as f, open(output_file, 'w') as out_f:\n",
    "        for line in f:\n",
    "            entity1, relation, entity2 = line.strip().split('\\t')\n",
    "            e1_index = entity_dict.get(entity1, None)\n",
    "            rel_index = relation_dict.get(relation, None)\n",
    "            e2_index = entity_dict.get(entity2, None)\n",
    "            \n",
    "            if e1_index is not None and rel_index is not None and e2_index is not None:\n",
    "                out_f.write(f\"{e1_index}\\trel_{rel_index}\\t{e2_index}\\n\")\n",
    "\n",
    "def process_all_files(input_files, entity_dict, relation_dict, output_dir):\n",
    "    \"\"\"Processes the test, train, valid files and generates the corresponding output files.\"\"\"\n",
    "    if not os.path.exists(output_dir):\n",
    "        os.makedirs(output_dir)\n",
    "\n",
    "    all_output_file = os.path.join(output_dir, 'all.txt')\n",
    "    \n",
    "    # Initialize all.txt for combined data\n",
    "    with open(all_output_file, 'w') as all_f:\n",
    "        pass\n",
    "    \n",
    "    for input_file in input_files:\n",
    "        filename = os.path.basename(input_file)\n",
    "        output_file = os.path.join(output_dir, filename)\n",
    "        \n",
    "        process_file(input_file, entity_dict, relation_dict, output_file)\n",
    "        \n",
    "        # Append the output to all.txt\n",
    "        with open(output_file, 'r') as f:\n",
    "            with open(all_output_file, 'a') as all_f:\n",
    "                for line in f:\n",
    "                    all_f.write(line)\n",
    "\n",
    "# Paths to your files\n",
    "entity_dict_file = 'entities.dict'\n",
    "relation_dict_file = 'relations.dict'\n",
    "input_files = ['test.txt', 'train.txt', 'valid.txt']\n",
    "output_dir = 'results'\n",
    "\n",
    "# Step 1: Read the entity and relation dictionaries\n",
    "entity_dict = read_dict_file(entity_dict_file)\n",
    "relation_dict = read_dict_file(relation_dict_file)\n",
    "\n",
    "# Step 2: Process each file and generate the output in the \"results\" directory\n",
    "process_all_files(input_files, entity_dict, relation_dict, output_dir)\n",
    "\n",
    "print(\"Processing complete. Check the 'results' directory for output files.\")\n"
   ]
  }
 ],
 "metadata": {
  "kernelspec": {
   "display_name": "Python 3",
   "language": "python",
   "name": "python3"
  },
  "language_info": {
   "codemirror_mode": {
    "name": "ipython",
    "version": 3
   },
   "file_extension": ".py",
   "mimetype": "text/x-python",
   "name": "python",
   "nbconvert_exporter": "python",
   "pygments_lexer": "ipython3",
   "version": "3.11.5"
  }
 },
 "nbformat": 4,
 "nbformat_minor": 2
}
