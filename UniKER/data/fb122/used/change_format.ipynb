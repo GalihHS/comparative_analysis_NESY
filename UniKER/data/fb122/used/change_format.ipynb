{
 "cells": [
  {
   "cell_type": "code",
   "execution_count": 3,
   "metadata": {},
   "outputs": [
    {
     "name": "stdout",
     "output_type": "stream",
     "text": [
      "File 'MLN_rule.txt' has been successfully created and formatted.\n"
     ]
    }
   ],
   "source": [
    "def process_line(line):\n",
    "    # Split the line on '==>'\n",
    "    parts = line.strip().split('==>')\n",
    "    \n",
    "    # Get the right side (the main predicate) and the left side (preceding predicates)\n",
    "    main_predicate = parts[1].strip()\n",
    "    preceding_predicates = parts[0].strip()\n",
    "    \n",
    "    # Check if the main predicate is inverted (contains (y,x))\n",
    "    if \"(y,x)\" in main_predicate:\n",
    "        main_predicate_name = main_predicate.split('(')[0]\n",
    "        # Add \"_v\" to all preceding predicates\n",
    "        predicate_names = [pred.split('(')[0] + \"_v\" for pred in preceding_predicates.split('&&')]\n",
    "    else:\n",
    "        main_predicate_name = main_predicate.split('(')[0]\n",
    "        predicate_names = [pred.split('(')[0] for pred in preceding_predicates.split('&&')]\n",
    "    \n",
    "    # Combine the predicates into the required format\n",
    "    combined_predicates = '\\t'.join(predicate_names)\n",
    "    \n",
    "    # Format the line as specified, with the main predicate first\n",
    "    formatted_line = f\"1.0\\t{main_predicate_name}\\t{combined_predicates}\"\n",
    "    return formatted_line\n",
    "\n",
    "def process_file(input_filepath, output_filepath):\n",
    "    with open(input_filepath, 'r') as infile, open(output_filepath, 'w') as outfile:\n",
    "        for line in infile:\n",
    "            if line.strip():  # Process non-empty lines\n",
    "                formatted_line = process_line(line)\n",
    "                outfile.write(formatted_line + '\\n')\n",
    "\n",
    "# Define file paths\n",
    "input_filepath = 'fb122_rule'\n",
    "output_filepath = 'MLN_rule.txt'\n",
    "\n",
    "# Process the file\n",
    "process_file(input_filepath, output_filepath)\n",
    "\n",
    "print(f\"File '{output_filepath}' has been successfully created and formatted.\")\n"
   ]
  }
 ],
 "metadata": {
  "kernelspec": {
   "display_name": "base",
   "language": "python",
   "name": "python3"
  },
  "language_info": {
   "codemirror_mode": {
    "name": "ipython",
    "version": 3
   },
   "file_extension": ".py",
   "mimetype": "text/x-python",
   "name": "python",
   "nbconvert_exporter": "python",
   "pygments_lexer": "ipython3",
   "version": "3.11.5"
  }
 },
 "nbformat": 4,
 "nbformat_minor": 2
}
